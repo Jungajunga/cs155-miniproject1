{
 "cells": [
  {
   "cell_type": "code",
   "execution_count": 1,
   "metadata": {
    "collapsed": false
   },
   "outputs": [
    {
     "name": "stdout",
     "output_type": "stream",
     "text": [
      "X1.shape:  (64667, 35)\n"
     ]
    }
   ],
   "source": [
    "## svm\n",
    "\n",
    "\n",
    "import csv \n",
    "import numpy as np\n",
    "import array\n",
    "import matplotlib.pyplot as plt\n",
    "import random\n",
    "#load scikit SVM functions\n",
    "from sklearn import linear_model\n",
    "#from sklearn.linear_model import LogisticRegression\n",
    "from sklearn.svm import SVC\n",
    "\n",
    "\n",
    "# load elctn training data\n",
    "with open('train_2008.csv','r') as dest_f: \n",
    "    data_iter = csv.reader(dest_f, delimiter = ',', quotechar = '\"') \n",
    "    elctn = [elctn for elctn in data_iter] \n",
    "    elctn = np.asarray(elctn)\n",
    "#print(elctn.shape)     #(64668, 383)\n",
    "\n",
    "# load elctn training data\n",
    "with open('test_2008.csv','r') as dest_fT: \n",
    "    data_iter = csv.reader(dest_fT, delimiter = ',', quotechar = '\"') \n",
    "    elctn_T = [elctn_T for elctn_T in data_iter] \n",
    "    elctn_T = np.asarray(elctn_T)\n",
    "#print(elctn_T.shape)     #(16001, 382)\n",
    "\n",
    "\n",
    "# add bias term to data; last column = column of outputs\n",
    "X1  = np.hstack((np.ones((64667,1)), elctn[1:64668,1:382].astype(np.float)))\n",
    "y1  = elctn[1:64668,382].astype(np.float)\n",
    "X_T  = np.hstack((np.ones((16000,1)), elctn_T[1:16001,1:382].astype(np.float)))\n",
    "\n",
    "# let 1 = voted, -1 = did not vote\n",
    "count = 0\n",
    "for i in range(64667):\n",
    "    if (y1[i]==2):\n",
    "        y1[i]  = -1\n",
    "        count += 1\n",
    "\n",
    "#have found below columns to always have the same entry\n",
    "cut_out = [1, 2, 12, 14, 16, 47, 58, 129, 130, 131, 135, 136, 137, 254, 258]\n",
    "X1    = np.delete(X1,  cut_out, 1) \n",
    "X_T   = np.delete(X_T, cut_out, 1)\n",
    "#print(\"X1.shape: \", X1.shape)    #(64667, 367)\n",
    "\n",
    "#columns determined to be irrelevant bc correlation less than 2500\n",
    "zero_indices = [  0,   1,   2,   3,   6,   7,   8,  10,  11,  12,  13,  14,  15,  16,  17,\n",
    "                18,  19,  20,\n",
    "  21,  22,  23,  24,  25,  26,  27,  28,  29,  30,  31,  32,  33,  37,  40,  41,  43,  44,\n",
    "  45,  47,  48,  52,  53,  54,  55,  56,  57,  58,  59,  60,  61,  62,  63,  64,  66,  67,\n",
    "  69,  70,  71,  74,  75,  76,  77,  78,  79,  80,  81,  82,  83,  84,  85,  86,  87,  88,\n",
    "  89,  90,  91,  92,  93,  94,  95,  96,  97,  98,  99, 100, 101, 102, 103, 104, 105, 106,\n",
    " 107, 108, 109, 110, 111, 113, 114, 115, 116, 117, 118, 119, 120, 121, 122, 123, 124, 125,\n",
    " 126, 127, 128, 129, 130, 131, 132, 133, 134, 135, 136, 137, 138, 139, 140, 141, 142, 143,\n",
    " 144, 145, 146, 147, 148, 149, 150, 151, 152, 153, 154, 155, 156, 157, 158, 159, 160, 161,\n",
    " 162, 163, 164, 165, 166, 167, 168, 169, 170, 171, 172, 173, 174, 175, 176, 177, 178, 179,\n",
    " 180, 181, 182, 183, 184, 185, 186, 188, 189, 190, 191, 192, 193, 194, 195, 196, 197, 198,\n",
    " 199, 200, 201, 202, 203, 204, 205, 206, 207, 208, 209, 210, 211, 212, 213, 214, 215, 216,\n",
    " 217, 218, 219, 220, 221, 222, 223, 225, 226, 228, 229, 230, 231, 232, 233, 234, 235, 236,\n",
    " 237, 238, 239, 240, 241, 242, 244, 246, 247, 248, 249, 250, 251, 252, 253, 254, 255, 257,\n",
    " 258, 259, 260, 261, 262, 263, 264, 265, 266, 267, 268, 269, 270, 271, 272, 273, 274, 275,\n",
    " 276, 277, 278, 279, 280, 281, 282, 283, 284, 285, 286, 287, 288, 289, 290, 291, 292, 293,\n",
    " 294, 295, 296, 297, 298, 299, 300, 301, 302, 303, 304, 305, 306, 307, 308, 309, 310, 311,\n",
    " 312, 313, 314, 315, 318, 321, 322, 326, 327, 328, 329, 330, 331, 332, 334, 335, 336, 337,\n",
    " 338, 339, 340, 341, 342, 343, 344, 345, 346, 348, 349, 350, 351, 352, 353, 354, 355, 357,\n",
    " 358, 360, 361, 362, 363, 364, 365, 366]\n",
    "\n",
    "X1    = np.delete(X1,  zero_indices, 1) \n",
    "X_T   = np.delete(X_T, zero_indices, 1)\n",
    "print(\"X1.shape: \", X1.shape)    #(64667, 35)\n",
    "\n",
    "#Compute mean and std of every column of X1,X2,X_T\n",
    "Xinfo = np.zeros((2,35))\n",
    "for j in range(1,35):\n",
    "    Xinfo[0,j] = np.mean(X1[:,j])\n",
    "    Xinfo[1,j] = np.std(X1[:,j])\n",
    "    \n",
    "#normalize every column of X1,X2,X_T apart from first one\n",
    "for j in range(1,35):\n",
    "    X1[:,j] = (X1[:,j] - Xinfo[0,j]) / Xinfo[1,j]\n",
    "    X_T[:,j] = (X_T[:,j] - Xinfo[0,j]) / Xinfo[1,j]\n",
    "\n",
    "#loss_tra  = np.zeros(3)\n",
    "#loss_val  = np.zeros(3)\n",
    "#class_err = np.zeros(3)\n",
    "\n"
   ]
  },
  {
   "cell_type": "code",
   "execution_count": 2,
   "metadata": {
    "collapsed": false,
    "scrolled": true
   },
   "outputs": [
    {
     "name": "stdout",
     "output_type": "stream",
     "text": [
      "start\n",
      "   training_err: \n",
      "0.167711702849\n",
      "   classification test accuracy: \n",
      "0.77951660043\n"
     ]
    }
   ],
   "source": [
    "print('start')\n",
    "for j in range(1):    # for 10-fold cross validation\n",
    "    #print('j = ', j)\n",
    "    #X1_tra = np.vstack([X1[0:(64667*j)/3,:], X1[(64667*(j+1))/3:64667,:]])\n",
    "    #X1_val = X1[(64667*j)/3:(64667*(j+1))/3,:]\n",
    "    #y1_tra = np.hstack([y1[0:(64667*j)/3], y1[(64667*(j+1))/3:64667]])\n",
    "    #y1_val = y1[(64667*j)/3:(64667*(j+1))/3]\n",
    "    X1_tra = X1\n",
    "    y1_tra = y1\n",
    "        \n",
    "    clf_SVC = SVC(kernel='rbf')\n",
    "    clf_SVC.fit(X1_tra, y1_tra) # accuracy 71.99% if only using 1000\n",
    "        \n",
    "    loss_tra = (1-clf_SVC.score(X1_tra, y1_tra))*np.var(y1_tra)\n",
    "    #loss_val[j] = (1-clf_SVC.score(X1_val, y1_val))*np.var(y1_val)\n",
    "    class_err = np.mean((np.sign(clf_SVC.predict(X1_tra))-y1_tra)**2)/4\n",
    "        \n",
    "print(\"   training_err: \"),\n",
    "#print(np.mean(loss_tra))\n",
    "print(loss_tra)\n",
    "#print(\"   test_err: \"),\n",
    "#print(np.mean(loss_val))\n",
    "print(\"   classification test accuracy: \"),\n",
    "#print(1-np.mean(class_err))\n",
    "print(1-class_err)\n",
    "\n"
   ]
  },
  {
   "cell_type": "code",
   "execution_count": 5,
   "metadata": {
    "collapsed": true
   },
   "outputs": [],
   "source": [
    "y_test2 = np.sign(clf_SVC.predict(X_T))\n",
    "for i in range(len(y_test2)):\n",
    "    if y_test2[i] == -1: y_test2[i] =2\n",
    "    "
   ]
  },
  {
   "cell_type": "code",
   "execution_count": 7,
   "metadata": {
    "collapsed": false
   },
   "outputs": [
    {
     "name": "stdout",
     "output_type": "stream",
     "text": [
      "['0' '1' '2' ..., '15997' '15998' '15999']\n",
      "['1' '1' '1' ..., '1' '1' '1']\n",
      "[['0' '1']\n",
      " ['1' '1']\n",
      " ['2' '1']\n",
      " ..., \n",
      " ['15997' '1']\n",
      " ['15998' '1']\n",
      " ['15999' '1']]\n",
      "[['id' 'PES1']\n",
      " ['0' '1']\n",
      " ['1' '1']\n",
      " ..., \n",
      " ['15997' '1']\n",
      " ['15998' '1']\n",
      " ['15999' '1']]\n"
     ]
    }
   ],
   "source": [
    "identity = data_test[1:,0] # data_test is data set. this is the first column\n",
    "print(identity)\n",
    "y_test3 = np.array([\"%.i\" % w for w in y_test2.reshape(y_test2.size)]) # y_test2 is a prediction \n",
    "print(y_test3)\n",
    "\n",
    "ListC = np.vstack((identity, y_test3))\n",
    "print(ListC.T)\n",
    "topic = ['id', 'PES1']\n",
    "results = np.vstack((topic, ListC.T))\n",
    "print(results)"
   ]
  },
  {
   "cell_type": "code",
   "execution_count": 8,
   "metadata": {
    "collapsed": true
   },
   "outputs": [],
   "source": [
    "with open('output_svm2008.csv', 'w') as f:\n",
    "    writer = csv.writer(f)\n",
    "    writer.writerows(results)"
   ]
  },
  {
   "cell_type": "code",
   "execution_count": 6,
   "metadata": {
    "collapsed": false
   },
   "outputs": [
    {
     "name": "stdout",
     "output_type": "stream",
     "text": [
      "start\n",
      "   training_err: \n",
      "0.168370410617\n",
      "   classification test accuracy: \n",
      "0.778650625512\n"
     ]
    }
   ],
   "source": [
    "print('start')\n",
    "for j in range(1):    # for 10-fold cross validation\n",
    "    #print('j = ', j)\n",
    "    #X1_tra = np.vstack([X1[0:(64667*j)/3,:], X1[(64667*(j+1))/3:64667,:]])\n",
    "    #X1_val = X1[(64667*j)/3:(64667*(j+1))/3,:]\n",
    "    #y1_tra = np.hstack([y1[0:(64667*j)/3], y1[(64667*(j+1))/3:64667]])\n",
    "    #y1_val = y1[(64667*j)/3:(64667*(j+1))/3]\n",
    "    X1_tra = X1\n",
    "    y1_tra = y1\n",
    "        \n",
    "    clf_SVC = SVC(kernel='poly')\n",
    "    clf_SVC.fit(X1_tra, y1_tra) # accuracy 71.99% if only using 1000\n",
    "        \n",
    "    loss_tra = (1-clf_SVC.score(X1_tra, y1_tra))*np.var(y1_tra)\n",
    "    #loss_val[j] = (1-clf_SVC.score(X1_val, y1_val))*np.var(y1_val)\n",
    "    class_err = np.mean((np.sign(clf_SVC.predict(X1_tra))-y1_tra)**2)/4\n",
    "        \n",
    "print(\"   training_err: \"),\n",
    "#print(np.mean(loss_tra))\n",
    "print(loss_tra)\n",
    "#print(\"   test_err: \"),\n",
    "#print(np.mean(loss_val))\n",
    "print(\"   classification test accuracy: \"),\n",
    "#print(1-np.mean(class_err))\n",
    "print(1-class_err)\n",
    "\n"
   ]
  },
  {
   "cell_type": "code",
   "execution_count": null,
   "metadata": {
    "collapsed": false
   },
   "outputs": [],
   "source": [
    "print('start')\n",
    "for j in range(1):    # for 10-fold cross validation\n",
    "    #print('j = ', j)\n",
    "    #X1_tra = np.vstack([X1[0:(64667*j)/3,:], X1[(64667*(j+1))/3:64667,:]])\n",
    "    #X1_val = X1[(64667*j)/3:(64667*(j+1))/3,:]\n",
    "    #y1_tra = np.hstack([y1[0:(64667*j)/3], y1[(64667*(j+1))/3:64667]])\n",
    "    #y1_val = y1[(64667*j)/3:(64667*(j+1))/3]\n",
    "    X1_tra = X1\n",
    "    y1_tra = y1\n",
    "        \n",
    "    clf_SVC = SVC(kernel='precomputed')\n",
    "#    clf_SVC.fit(X1_tra, y1_tra) # accuracy 71.99% if only using 1000\n",
    "    \n",
    "    gram = np.dot(X1_tra, X1_tra.T)\n",
    "    clf_SVC.fit(gram, y1_tra) \n",
    "    \n",
    "    loss_tra = (1-clf_SVC.score(gram, y1_tra))*np.var(y1_tra)\n",
    "    #loss_val[j] = (1-clf_SVC.score(X1_val, y1_val))*np.var(y1_val)\n",
    "    class_err = np.mean((np.sign(clf_SVC.predict(gram))-y1_tra)**2)/4\n",
    "        \n",
    "print(\"   training_err: \"),\n",
    "#print(np.mean(loss_tra))\n",
    "print(loss_tra)\n",
    "#print(\"   test_err: \"),\n",
    "#print(np.mean(loss_val))\n",
    "print(\"   classification test accuracy: \"),\n",
    "#print(1-np.mean(class_err))\n",
    "print(1-class_err)\n",
    "\n",
    "\n"
   ]
  },
  {
   "cell_type": "code",
   "execution_count": null,
   "metadata": {
    "collapsed": true
   },
   "outputs": [],
   "source": []
  },
  {
   "cell_type": "code",
   "execution_count": null,
   "metadata": {
    "collapsed": true
   },
   "outputs": [],
   "source": []
  },
  {
   "cell_type": "code",
   "execution_count": null,
   "metadata": {
    "collapsed": true
   },
   "outputs": [],
   "source": []
  }
 ],
 "metadata": {
  "anaconda-cloud": {},
  "kernelspec": {
   "display_name": "Python [default]",
   "language": "python",
   "name": "python3"
  },
  "language_info": {
   "codemirror_mode": {
    "name": "ipython",
    "version": 3
   },
   "file_extension": ".py",
   "mimetype": "text/x-python",
   "name": "python",
   "nbconvert_exporter": "python",
   "pygments_lexer": "ipython3",
   "version": "3.5.2"
  }
 },
 "nbformat": 4,
 "nbformat_minor": 1
}
