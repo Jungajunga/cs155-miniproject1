{
 "cells": [
  {
   "cell_type": "code",
   "execution_count": 2,
   "metadata": {
    "collapsed": false
   },
   "outputs": [],
   "source": [
    "from sklearn import tree\n",
    "import csv\n",
    "import numpy as np\n",
    "import matplotlib.pyplot as plt\n",
    "\n",
    "with open ('train_2008.csv' ,'r') as dest_f:\n",
    "    data_iter = csv.reader(dest_f, delimiter = ',', quotechar = '\"') \n",
    "    data = [data for data in data_iter] \n",
    "    data_array = np.asarray(data)\n",
    "    \n",
    "\n"
   ]
  },
  {
   "cell_type": "code",
   "execution_count": 3,
   "metadata": {
    "collapsed": false
   },
   "outputs": [],
   "source": [
    "shape = data_array.shape\n",
    "identity = data_array[:,0]\n",
    "y = np.array(data_array[1:,shape[1]-1],'f')\n",
    "X = np.array(data_array[1:,1:382],'f') # do not consider the first row since it's identity number.\n",
    "\n",
    "t_out = [1, 2, 12, 14, 16, 47, 58, 129, 130, 131, 135, 136, 137, 254, 258]\n",
    "\n",
    "X1 = np.delete(X, t_out, 1) \n",
    "#for i in range(X.shape[0]):\n",
    "#    for j in range(X.shape[1]):\n",
    "#        if X[i][j]>100: X[i][j] = 0"
   ]
  },
  {
   "cell_type": "code",
   "execution_count": 4,
   "metadata": {
    "collapsed": false
   },
   "outputs": [
    {
     "name": "stdout",
     "output_type": "stream",
     "text": [
      "[ 2.  2.  2. ...,  2.  1.  1.]\n"
     ]
    }
   ],
   "source": [
    "# divide the training set and test set. \n",
    "from sklearn.model_selection import train_test_split\n",
    "X_train, X_test, y_train, y_test = train_test_split(X1, y, test_size=0.33)\n",
    "print(y_train)"
   ]
  },
  {
   "cell_type": "code",
   "execution_count": 179,
   "metadata": {
    "collapsed": false,
    "scrolled": true
   },
   "outputs": [
    {
     "name": "stdout",
     "output_type": "stream",
     "text": [
      "0.853436735448\n",
      "0.7285506771\n",
      "0.819831048331\n",
      "0.745653905628\n",
      "0.80681346074\n",
      "0.751464317511\n",
      "0.798573604764\n",
      "0.75671243147\n",
      "0.793357337396\n",
      "0.759570779251\n",
      "0.79003369801\n",
      "0.757509020196\n",
      "0.787679453446\n",
      "0.759851928213\n",
      "0.784840511471\n",
      "0.759758211893\n",
      "0.782878641001\n",
      "0.759477062931\n",
      "0.781770761206\n",
      "0.760039360855\n",
      "0.780709043069\n",
      "0.762194836231\n",
      "0.780247426488\n",
      "0.763366290239\n",
      "0.780224345658\n",
      "0.763928588164\n",
      "0.779670405761\n",
      "0.764631460569\n",
      "0.779393435812\n",
      "0.76481889321\n",
      "0.777662373632\n",
      "0.765615481936\n",
      "0.777408484513\n",
      "0.765006325852\n",
      "0.776646817154\n",
      "0.765802914578\n",
      "0.774800350829\n",
      "0.765100042172\n",
      "0.77426949176\n",
      "0.766505786983\n",
      "0.77403868347\n",
      "0.765896630898\n",
      "0.773992521811\n",
      "0.765193758493\n",
      "0.773969440982\n",
      "0.765193758493\n",
      "0.773715551863\n",
      "0.765053184012\n",
      "0.773507824401\n",
      "0.765146900333\n",
      "0.773023126991\n",
      "0.76472517689\n",
      "0.773000046162\n",
      "0.765287474814\n",
      "0.772146055486\n",
      "0.764678318729\n",
      "0.772146055486\n",
      "0.764069162645\n",
      "0.771361307298\n",
      "0.764022304484\n",
      "0.771361307298\n",
      "0.764022304484\n",
      "0.771361307298\n",
      "0.764022304484\n",
      "0.771107418178\n",
      "0.764350311607\n",
      "0.770922771546\n",
      "0.76477203505\n",
      "0.770922771546\n",
      "0.76477203505\n",
      "0.770507316623\n",
      "0.76477203505\n",
      "0.770507316623\n",
      "0.76477203505\n",
      "0.770507316623\n",
      "0.76477203505\n",
      "0.770507316623\n",
      "0.76477203505\n",
      "0.770507316623\n",
      "0.76477203505\n",
      "0.770507316623\n",
      "0.76477203505\n",
      "0.770414993307\n",
      "0.764022304484\n",
      "0.770345750819\n",
      "0.76472517689\n",
      "0.770345750819\n",
      "0.76472517689\n",
      "0.770299589161\n",
      "0.764116020805\n",
      "0.770138023358\n",
      "0.763741155522\n",
      "0.770138023358\n",
      "0.763741155522\n",
      "0.770114942529\n",
      "0.763834871843\n",
      "0.770114942529\n",
      "0.763834871843\n",
      "0.770068780871\n",
      "0.763975446324\n",
      "0.769791810922\n",
      "0.763225715758\n",
      "0.769791810922\n",
      "0.763225715758\n",
      "0.769791810922\n",
      "0.763225715758\n",
      "0.768730092785\n",
      "0.762944566796\n",
      "0.768730092785\n",
      "0.762944566796\n",
      "0.768707011956\n",
      "0.762944566796\n",
      "0.768176152887\n",
      "0.763788013683\n",
      "0.767506808845\n",
      "0.762382268872\n",
      "0.767045192263\n",
      "0.761632538307\n",
      "0.767045192263\n",
      "0.761632538307\n",
      "0.767022111434\n",
      "0.761726254627\n",
      "0.767022111434\n",
      "0.760648516939\n",
      "0.767022111434\n",
      "0.760648516939\n",
      "0.767022111434\n",
      "0.760648516939\n",
      "0.766952868947\n",
      "0.760835949581\n",
      "0.766491252366\n",
      "0.760039360855\n",
      "0.766491252366\n",
      "0.760039360855\n",
      "0.766491252366\n",
      "0.760039360855\n",
      "0.766491252366\n",
      "0.759992502694\n",
      "0.766445090708\n",
      "0.759945644534\n",
      "0.766445090708\n",
      "0.759945644534\n",
      "0.766445090708\n",
      "0.759992502694\n",
      "0.766445090708\n",
      "0.760835949581\n",
      "0.766606656511\n",
      "0.761117098543\n",
      "0.766606656511\n",
      "0.761117098543\n",
      "0.766606656511\n",
      "0.761117098543\n",
      "0.766606656511\n",
      "0.761117098543\n",
      "0.767091353921\n",
      "0.764116020805\n",
      "0.767091353921\n",
      "0.764116020805\n",
      "0.767091353921\n",
      "0.764116020805\n",
      "0.767091353921\n",
      "0.764116020805\n",
      "0.767091353921\n",
      "0.764116020805\n",
      "0.767091353921\n",
      "0.764116020805\n",
      "0.767091353921\n",
      "0.764116020805\n",
      "0.767091353921\n",
      "0.764116020805\n",
      "0.766606656511\n",
      "0.761117098543\n",
      "0.76639892905\n",
      "0.760648516939\n",
      "0.76639892905\n",
      "0.760648516939\n",
      "0.76639892905\n",
      "0.760648516939\n",
      "0.76639892905\n",
      "0.760648516939\n",
      "0.76639892905\n",
      "0.760648516939\n",
      "0.765475695887\n",
      "0.758633616044\n",
      "0.765475695887\n",
      "0.758633616044\n",
      "0.765475695887\n",
      "0.758633616044\n",
      "0.76515256428\n",
      "0.758680474205\n",
      "0.76515256428\n",
      "0.758680474205\n",
      "0.76515256428\n",
      "0.758680474205\n",
      "0.76515256428\n",
      "0.758680474205\n",
      "0.76515256428\n",
      "0.758680474205\n"
     ]
    },
    {
     "data": {
      "image/png": "[encoded data removed]",
      "text/plain": [
       "<matplotlib.figure.Figure at 0x122beb630>"
      ]
     },
     "metadata": {},
     "output_type": "display_data"
    }
   ],
   "source": [
    "i=10\n",
    "while(i<1000):\n",
    "    clf = tree.DecisionTreeClassifier(min_samples_leaf=i, max_features=None, random_state=None, max_leaf_nodes=None, class_weight=None, presort=False)\n",
    "    clf = clf.fit(X_train, y_train)\n",
    "    print(clf.score(X_train,y_train))\n",
    "    print(clf.score(X_test,y_test))\n",
    "    plt.plot(i, clf.score(X_train,y_train),'ro')\n",
    "    plt.plot(i, clf.score(X_test,y_test),'bs')\n",
    "             \n",
    "    i += 10\n",
    "plt.show()"
   ]
  },
  {
   "cell_type": "code",
   "execution_count": 183,
   "metadata": {
    "collapsed": false
   },
   "outputs": [
    {
     "name": "stdout",
     "output_type": "stream",
     "text": [
      "0.818400036929\n",
      "0.752401480718\n",
      "0.788695009925\n",
      "0.758539899724\n",
      "0.778677930111\n",
      "0.758493041563\n",
      "0.769422517657\n",
      "0.755259828499\n",
      "0.766029635785\n",
      "0.755119254018\n",
      "0.764575543554\n",
      "0.754697530575\n",
      "0.763167612981\n",
      "0.754416381613\n",
      "0.761021095878\n",
      "0.753619792887\n",
      "0.761805844066\n",
      "0.754369523453\n",
      "0.761505793288\n",
      "0.754556956094\n",
      "0.760813368416\n",
      "0.754510097934\n",
      "0.761251904168\n",
      "0.754369523453\n",
      "0.759705488621\n",
      "0.754369523453\n",
      "0.75875917463\n",
      "0.754416381613\n",
      "0.758459123852\n",
      "0.754603814254\n",
      "0.756658819185\n",
      "0.752870062321\n",
      "0.754419978766\n",
      "0.751839182794\n",
      "0.750011540415\n",
      "0.748137388126\n",
      "0.750011540415\n",
      "0.748137388126\n",
      "0.750011540415\n",
      "0.748137388126\n",
      "0.74814199326\n",
      "0.746309919873\n",
      "0.749249873055\n",
      "0.747762522843\n",
      "0.749249873055\n",
      "0.747762522843\n",
      "0.749249873055\n",
      "0.747762522843\n",
      "0.748719013987\n",
      "0.747668806523\n",
      "0.748857498961\n",
      "0.747153366759\n",
      "0.751811845081\n",
      "0.750433437983\n",
      "0.751811845081\n",
      "0.750433437983\n",
      "0.751811845081\n",
      "0.750433437983\n",
      "0.751811845081\n",
      "0.750433437983\n",
      "0.751811845081\n",
      "0.750433437983\n",
      "0.750750126945\n",
      "0.75001171454\n",
      "0.750750126945\n",
      "0.75001171454\n",
      "0.750750126945\n",
      "0.75001171454\n",
      "0.750750126945\n",
      "0.75001171454\n",
      "0.750750126945\n",
      "0.75001171454\n",
      "0.750750126945\n",
      "0.75001171454\n",
      "0.750750126945\n",
      "0.75001171454\n",
      "0.750750126945\n",
      "0.75001171454\n",
      "0.750750126945\n",
      "0.75001171454\n",
      "0.750750126945\n",
      "0.75001171454\n",
      "0.750750126945\n",
      "0.75001171454\n",
      "0.750750126945\n",
      "0.75001171454\n",
      "0.750750126945\n",
      "0.75001171454\n",
      "0.750750126945\n",
      "0.75001171454\n",
      "0.750750126945\n",
      "0.75001171454\n",
      "0.750750126945\n",
      "0.75001171454\n",
      "0.750750126945\n",
      "0.75001171454\n",
      "0.750750126945\n",
      "0.75001171454\n",
      "0.744818353875\n",
      "0.744201302657\n",
      "0.744818353875\n",
      "0.744201302657\n",
      "0.744818353875\n",
      "0.744201302657\n",
      "0.744818353875\n",
      "0.744201302657\n",
      "0.744818353875\n",
      "0.744201302657\n",
      "0.744818353875\n",
      "0.744201302657\n",
      "0.744818353875\n",
      "0.744201302657\n",
      "0.744818353875\n",
      "0.744201302657\n",
      "0.744818353875\n",
      "0.744201302657\n",
      "0.744818353875\n",
      "0.744201302657\n",
      "0.744818353875\n",
      "0.744201302657\n",
      "0.744818353875\n",
      "0.744201302657\n",
      "0.744818353875\n",
      "0.744201302657\n",
      "0.744818353875\n",
      "0.744201302657\n",
      "0.744818353875\n",
      "0.744201302657\n",
      "0.744818353875\n",
      "0.744201302657\n",
      "0.744818353875\n",
      "0.744201302657\n",
      "0.744818353875\n",
      "0.744201302657\n",
      "0.744818353875\n",
      "0.744201302657\n",
      "0.744818353875\n",
      "0.744201302657\n",
      "0.744818353875\n",
      "0.744201302657\n",
      "0.744818353875\n",
      "0.744201302657\n",
      "0.744818353875\n",
      "0.744201302657\n",
      "0.744818353875\n",
      "0.744201302657\n",
      "0.744818353875\n",
      "0.744201302657\n",
      "0.744818353875\n",
      "0.744201302657\n",
      "0.744818353875\n",
      "0.744201302657\n",
      "0.744818353875\n",
      "0.744201302657\n",
      "0.744818353875\n",
      "0.744201302657\n",
      "0.744818353875\n",
      "0.744201302657\n",
      "0.744818353875\n",
      "0.744201302657\n",
      "0.744818353875\n",
      "0.744201302657\n",
      "0.744818353875\n",
      "0.744201302657\n",
      "0.744818353875\n",
      "0.744201302657\n",
      "0.744818353875\n",
      "0.744201302657\n",
      "0.744818353875\n",
      "0.744201302657\n",
      "0.744818353875\n",
      "0.744201302657\n",
      "0.744818353875\n",
      "0.744201302657\n",
      "0.744818353875\n",
      "0.744201302657\n",
      "0.744818353875\n",
      "0.744201302657\n",
      "0.744818353875\n",
      "0.744201302657\n",
      "0.744818353875\n",
      "0.744201302657\n",
      "0.744818353875\n",
      "0.744201302657\n",
      "0.744818353875\n",
      "0.744201302657\n",
      "0.744818353875\n",
      "0.744201302657\n",
      "0.744818353875\n",
      "0.744201302657\n",
      "0.744818353875\n",
      "0.744201302657\n",
      "0.744818353875\n",
      "0.744201302657\n",
      "0.744818353875\n",
      "0.744201302657\n",
      "0.744818353875\n",
      "0.744201302657\n"
     ]
    },
    {
     "data": {
      "image/png": "[encoded data removed]",
      "text/plain": [
       "<matplotlib.figure.Figure at 0x11ca57fd0>"
      ]
     },
     "metadata": {},
     "output_type": "display_data"
    }
   ],
   "source": [
    "i=10\n",
    "while(i<1000):\n",
    "    clf = tree.DecisionTreeClassifier(min_samples_leaf=i, max_features=None, random_state=None, max_leaf_nodes=None, class_weight={1:0.75, 2:0.25}, presort=False)\n",
    "    clf = clf.fit(X_train, y_train)\n",
    "    print(clf.score(X_train,y_train))\n",
    "    print(clf.score(X_test,y_test))\n",
    "    plt.plot(i, clf.score(X_train,y_train),'ro')\n",
    "    plt.plot(i, clf.score(X_test,y_test),'bs')\n",
    "             \n",
    "    i += 10\n",
    "plt.show()"
   ]
  },
  {
   "cell_type": "code",
   "execution_count": 187,
   "metadata": {
    "collapsed": false
   },
   "outputs": [
    {
     "name": "stdout",
     "output_type": "stream",
     "text": [
      "0.777685454462\n",
      "0.763366290239\n",
      "0.777685454462\n",
      "0.763366290239\n",
      "0.777685454462\n",
      "0.763366290239\n",
      "0.777685454462\n",
      "0.763366290239\n",
      "0.777685454462\n",
      "0.763366290239\n",
      "0.777685454462\n",
      "0.763366290239\n",
      "0.777685454462\n",
      "0.763366290239\n",
      "0.777685454462\n",
      "0.763366290239\n",
      "0.777685454462\n",
      "0.763366290239\n",
      "0.777685454462\n",
      "0.763366290239\n",
      "0.777685454462\n",
      "0.763366290239\n",
      "0.777685454462\n",
      "0.763366290239\n",
      "0.777685454462\n",
      "0.763366290239\n",
      "0.777685454462\n",
      "0.763366290239\n",
      "0.777685454462\n",
      "0.763366290239\n",
      "0.777685454462\n",
      "0.763366290239\n",
      "0.777685454462\n",
      "0.763366290239\n",
      "0.777685454462\n",
      "0.763366290239\n",
      "0.777685454462\n",
      "0.763366290239\n",
      "0.777685454462\n",
      "0.763366290239\n",
      "0.777685454462\n",
      "0.763366290239\n",
      "0.777685454462\n",
      "0.763366290239\n",
      "0.777685454462\n",
      "0.763366290239\n",
      "0.777685454462\n",
      "0.763366290239\n",
      "0.777685454462\n",
      "0.763366290239\n",
      "0.777685454462\n",
      "0.763366290239\n",
      "0.777685454462\n",
      "0.763366290239\n",
      "0.777685454462\n",
      "0.763366290239\n",
      "0.777685454462\n",
      "0.763366290239\n",
      "0.777685454462\n",
      "0.763366290239\n",
      "0.777685454462\n",
      "0.763366290239\n",
      "0.777685454462\n",
      "0.763366290239\n",
      "0.777685454462\n",
      "0.763366290239\n",
      "0.777685454462\n",
      "0.763366290239\n",
      "0.777685454462\n",
      "0.763366290239\n",
      "0.777685454462\n",
      "0.763366290239\n",
      "0.777685454462\n",
      "0.763366290239\n",
      "0.777685454462\n",
      "0.763366290239\n",
      "0.777685454462\n",
      "0.763366290239\n",
      "0.777685454462\n",
      "0.763366290239\n",
      "0.777685454462\n",
      "0.763366290239\n",
      "0.777685454462\n",
      "0.763366290239\n",
      "0.777685454462\n",
      "0.763366290239\n",
      "0.777685454462\n",
      "0.763366290239\n",
      "0.777685454462\n",
      "0.763366290239\n",
      "0.777685454462\n",
      "0.763366290239\n",
      "0.777685454462\n",
      "0.763366290239\n",
      "0.777685454462\n",
      "0.763366290239\n",
      "0.777685454462\n",
      "0.763366290239\n",
      "0.777685454462\n",
      "0.763366290239\n",
      "0.777685454462\n",
      "0.763366290239\n",
      "0.777685454462\n",
      "0.763366290239\n",
      "0.777685454462\n",
      "0.763366290239\n",
      "0.777685454462\n",
      "0.763366290239\n",
      "0.777685454462\n",
      "0.763366290239\n",
      "0.777685454462\n",
      "0.763366290239\n",
      "0.777685454462\n",
      "0.763366290239\n",
      "0.777685454462\n",
      "0.763366290239\n",
      "0.777685454462\n",
      "0.763366290239\n",
      "0.777685454462\n",
      "0.763366290239\n",
      "0.777685454462\n",
      "0.763366290239\n",
      "0.777685454462\n",
      "0.763366290239\n",
      "0.777685454462\n",
      "0.763366290239\n",
      "0.777685454462\n",
      "0.763366290239\n",
      "0.777685454462\n",
      "0.763366290239\n",
      "0.777685454462\n",
      "0.763366290239\n",
      "0.777685454462\n",
      "0.763366290239\n",
      "0.777685454462\n",
      "0.763366290239\n",
      "0.777685454462\n",
      "0.763366290239\n",
      "0.777685454462\n",
      "0.763366290239\n",
      "0.777685454462\n",
      "0.763366290239\n",
      "0.777685454462\n",
      "0.763366290239\n",
      "0.777685454462\n",
      "0.763366290239\n",
      "0.777685454462\n",
      "0.763366290239\n",
      "0.777685454462\n",
      "0.763366290239\n",
      "0.777685454462\n",
      "0.763366290239\n",
      "0.777685454462\n",
      "0.763366290239\n",
      "0.777685454462\n",
      "0.763366290239\n",
      "0.777685454462\n",
      "0.763366290239\n",
      "0.777685454462\n",
      "0.763366290239\n",
      "0.777685454462\n",
      "0.763366290239\n",
      "0.777685454462\n",
      "0.763366290239\n",
      "0.777685454462\n",
      "0.763366290239\n",
      "0.777685454462\n",
      "0.763366290239\n",
      "0.777685454462\n",
      "0.763366290239\n",
      "0.777685454462\n",
      "0.763366290239\n",
      "0.777685454462\n",
      "0.763366290239\n",
      "0.777685454462\n",
      "0.763366290239\n",
      "0.777685454462\n",
      "0.763366290239\n",
      "0.777685454462\n",
      "0.763366290239\n",
      "0.777685454462\n",
      "0.763366290239\n"
     ]
    },
    {
     "ename": "KeyboardInterrupt",
     "evalue": "",
     "output_type": "error",
     "traceback": [
      "\u001b[0;31m---------------------------------------------------------------------------\u001b[0m",
      "\u001b[0;31mKeyboardInterrupt\u001b[0m                         Traceback (most recent call last)",
      "\u001b[0;32m<ipython-input-187-f4721d572326>\u001b[0m in \u001b[0;36m<module>\u001b[0;34m()\u001b[0m\n\u001b[1;32m      2\u001b[0m \u001b[0;32mwhile\u001b[0m\u001b[0;34m(\u001b[0m\u001b[0mj\u001b[0m\u001b[0;34m<\u001b[0m\u001b[0;36m1000\u001b[0m\u001b[0;34m)\u001b[0m\u001b[0;34m:\u001b[0m\u001b[0;34m\u001b[0m\u001b[0m\n\u001b[1;32m      3\u001b[0m     \u001b[0mclf\u001b[0m \u001b[0;34m=\u001b[0m \u001b[0mtree\u001b[0m\u001b[0;34m.\u001b[0m\u001b[0mDecisionTreeClassifier\u001b[0m\u001b[0;34m(\u001b[0m\u001b[0mcriterion\u001b[0m \u001b[0;34m=\u001b[0m \u001b[0;34m'entropy'\u001b[0m\u001b[0;34m,\u001b[0m \u001b[0mmin_samples_leaf\u001b[0m\u001b[0;34m=\u001b[0m\u001b[0;36m10\u001b[0m\u001b[0;34m,\u001b[0m \u001b[0mmax_features\u001b[0m\u001b[0;34m=\u001b[0m\u001b[0;32mNone\u001b[0m\u001b[0;34m,\u001b[0m \u001b[0mrandom_state\u001b[0m\u001b[0;34m=\u001b[0m\u001b[0;32mNone\u001b[0m\u001b[0;34m,\u001b[0m \u001b[0mmax_leaf_nodes\u001b[0m\u001b[0;34m=\u001b[0m\u001b[0;36m100\u001b[0m\u001b[0;34m,\u001b[0m \u001b[0mpresort\u001b[0m\u001b[0;34m=\u001b[0m\u001b[0;32mFalse\u001b[0m\u001b[0;34m)\u001b[0m\u001b[0;34m\u001b[0m\u001b[0m\n\u001b[0;32m----> 4\u001b[0;31m     \u001b[0mclf\u001b[0m \u001b[0;34m=\u001b[0m \u001b[0mclf\u001b[0m\u001b[0;34m.\u001b[0m\u001b[0mfit\u001b[0m\u001b[0;34m(\u001b[0m\u001b[0mX_train\u001b[0m\u001b[0;34m,\u001b[0m \u001b[0my_train\u001b[0m\u001b[0;34m)\u001b[0m\u001b[0;34m\u001b[0m\u001b[0m\n\u001b[0m\u001b[1;32m      5\u001b[0m     \u001b[0mprint\u001b[0m\u001b[0;34m(\u001b[0m\u001b[0mclf\u001b[0m\u001b[0;34m.\u001b[0m\u001b[0mscore\u001b[0m\u001b[0;34m(\u001b[0m\u001b[0mX_train\u001b[0m\u001b[0;34m,\u001b[0m\u001b[0my_train\u001b[0m\u001b[0;34m)\u001b[0m\u001b[0;34m)\u001b[0m\u001b[0;34m\u001b[0m\u001b[0m\n\u001b[1;32m      6\u001b[0m     \u001b[0mprint\u001b[0m\u001b[0;34m(\u001b[0m\u001b[0mclf\u001b[0m\u001b[0;34m.\u001b[0m\u001b[0mscore\u001b[0m\u001b[0;34m(\u001b[0m\u001b[0mX_test\u001b[0m\u001b[0;34m,\u001b[0m\u001b[0my_test\u001b[0m\u001b[0;34m)\u001b[0m\u001b[0;34m)\u001b[0m\u001b[0;34m\u001b[0m\u001b[0m\n",
      "\u001b[0;32m/Users/Gahye/anaconda/lib/python3.5/site-packages/sklearn/tree/tree.py\u001b[0m in \u001b[0;36mfit\u001b[0;34m(self, X, y, sample_weight, check_input, X_idx_sorted)\u001b[0m\n\u001b[1;32m    737\u001b[0m             \u001b[0msample_weight\u001b[0m\u001b[0;34m=\u001b[0m\u001b[0msample_weight\u001b[0m\u001b[0;34m,\u001b[0m\u001b[0;34m\u001b[0m\u001b[0m\n\u001b[1;32m    738\u001b[0m             \u001b[0mcheck_input\u001b[0m\u001b[0;34m=\u001b[0m\u001b[0mcheck_input\u001b[0m\u001b[0;34m,\u001b[0m\u001b[0;34m\u001b[0m\u001b[0m\n\u001b[0;32m--> 739\u001b[0;31m             X_idx_sorted=X_idx_sorted)\n\u001b[0m\u001b[1;32m    740\u001b[0m         \u001b[0;32mreturn\u001b[0m \u001b[0mself\u001b[0m\u001b[0;34m\u001b[0m\u001b[0m\n\u001b[1;32m    741\u001b[0m \u001b[0;34m\u001b[0m\u001b[0m\n",
      "\u001b[0;32m/Users/Gahye/anaconda/lib/python3.5/site-packages/sklearn/tree/tree.py\u001b[0m in \u001b[0;36mfit\u001b[0;34m(self, X, y, sample_weight, check_input, X_idx_sorted)\u001b[0m\n\u001b[1;32m    348\u001b[0m                                            self.min_impurity_split)\n\u001b[1;32m    349\u001b[0m \u001b[0;34m\u001b[0m\u001b[0m\n\u001b[0;32m--> 350\u001b[0;31m         \u001b[0mbuilder\u001b[0m\u001b[0;34m.\u001b[0m\u001b[0mbuild\u001b[0m\u001b[0;34m(\u001b[0m\u001b[0mself\u001b[0m\u001b[0;34m.\u001b[0m\u001b[0mtree_\u001b[0m\u001b[0;34m,\u001b[0m \u001b[0mX\u001b[0m\u001b[0;34m,\u001b[0m \u001b[0my\u001b[0m\u001b[0;34m,\u001b[0m \u001b[0msample_weight\u001b[0m\u001b[0;34m,\u001b[0m \u001b[0mX_idx_sorted\u001b[0m\u001b[0;34m)\u001b[0m\u001b[0;34m\u001b[0m\u001b[0m\n\u001b[0m\u001b[1;32m    351\u001b[0m \u001b[0;34m\u001b[0m\u001b[0m\n\u001b[1;32m    352\u001b[0m         \u001b[0;32mif\u001b[0m \u001b[0mself\u001b[0m\u001b[0;34m.\u001b[0m\u001b[0mn_outputs_\u001b[0m \u001b[0;34m==\u001b[0m \u001b[0;36m1\u001b[0m\u001b[0;34m:\u001b[0m\u001b[0;34m\u001b[0m\u001b[0m\n",
      "\u001b[0;31mKeyboardInterrupt\u001b[0m: "
     ]
    }
   ],
   "source": [
    "j=10\n",
    "while(j<1000):\n",
    "    clf = tree.DecisionTreeClassifier(criterion = 'entropy', min_samples_leaf=10, max_features=None, random_state=None, presort=False)\n",
    "    clf = clf.fit(X_train, y_train)\n",
    "    print(clf.score(X_train,y_train))\n",
    "    print(clf.score(X_test,y_test))\n",
    "    plt.plot(j, clf.score(X_train,y_train),'ro')\n",
    "    plt.plot(j, clf.score(X_test,y_test),'bs')\n",
    "             \n",
    "    i += 10\n",
    "plt.show()"
   ]
  },
  {
   "cell_type": "code",
   "execution_count": 27,
   "metadata": {
    "collapsed": false
   },
   "outputs": [],
   "source": [
    "with open ('test_2008.csv' ,'r') as dest_f:\n",
    "    data_iter = csv.reader(dest_f, delimiter = ',', quotechar = '\"') \n",
    "    data = [data for data in data_iter] \n",
    "    data_test = np.asarray(data)\n",
    "\n",
    "\n"
   ]
  },
  {
   "cell_type": "code",
   "execution_count": 163,
   "metadata": {
    "collapsed": false
   },
   "outputs": [
    {
     "name": "stdout",
     "output_type": "stream",
     "text": [
      "[ 1.  1.  1. ...,  1.  1.  1.] ['0' '1' '2' ..., '15997' '15998' '15999']\n"
     ]
    }
   ],
   "source": [
    "\n",
    "X_test2 = np.array(data_test[1:,1:381],'f')\n",
    "Y_test2 = clf.predict(X_test2)\n",
    "identity = data_test[1:,0]\n",
    "\n",
    "print(Y_test2, identity)\n",
    "\n",
    "        \n",
    "\n",
    "\n"
   ]
  },
  {
   "cell_type": "code",
   "execution_count": 160,
   "metadata": {
    "collapsed": false
   },
   "outputs": [],
   "source": [
    "with open(\"output.csv\", \"w\") as f:\n",
    "    writer = csv.writer(f)\n",
    "    writer.writerows(new)"
   ]
  },
  {
   "cell_type": "code",
   "execution_count": 188,
   "metadata": {
    "collapsed": false
   },
   "outputs": [
    {
     "name": "stdout",
     "output_type": "stream",
     "text": [
      "(64667, 380)\n"
     ]
    }
   ],
   "source": [
    "print(X.shape)"
   ]
  },
  {
   "cell_type": "code",
   "execution_count": 192,
   "metadata": {
    "collapsed": false
   },
   "outputs": [
    {
     "name": "stdout",
     "output_type": "stream",
     "text": [
      "0.764321654434\n",
      "0.762897708636\n",
      "0.772653833726\n",
      "0.771613326461\n",
      "0.775608179846\n",
      "0.773862518158\n",
      "0.778170151872\n",
      "0.774705965044\n",
      "0.779485759128\n",
      "0.775736844571\n",
      "0.779116465863\n",
      "0.777236305703\n",
      "0.780108941513\n",
      "0.778454617872\n",
      "0.781539952915\n",
      "0.77822032707\n",
      "0.78241702442\n",
      "0.778595192353\n"
     ]
    }
   ],
   "source": [
    "from sklearn.ensemble import AdaBoostClassifier\n",
    "k=10\n",
    "while(k<100):\n",
    "    clf = AdaBoostClassifier(n_estimators=k, learning_rate=1.0)\n",
    "    clf = clf.fit(X_train, y_train)\n",
    "    print(clf.score(X_train,y_train))\n",
    "    print(clf.score(X_test,y_test))\n",
    "    k += 10"
   ]
  },
  {
   "cell_type": "code",
   "execution_count": 193,
   "metadata": {
    "collapsed": false
   },
   "outputs": [
    {
     "name": "stdout",
     "output_type": "stream",
     "text": [
      "0.781863084522\n",
      "0.779204348437\n",
      "0.782209296958\n",
      "0.779157490277\n",
      "0.782763236855\n",
      "0.77817346891\n",
      "0.783109449291\n",
      "0.777939178108\n",
      "0.782486266907\n",
      "0.779016915796\n",
      "0.782509347736\n",
      "0.779438639239\n"
     ]
    }
   ],
   "source": [
    "from sklearn.ensemble import AdaBoostClassifier\n",
    "k=100\n",
    "while(k<160):\n",
    "    clf = AdaBoostClassifier(n_estimators=k, learning_rate=1.0)\n",
    "    clf = clf.fit(X_train, y_train)\n",
    "    print(clf.score(X_train,y_train))\n",
    "    print(clf.score(X_test,y_test))\n",
    "    k += 10"
   ]
  },
  {
   "cell_type": "code",
   "execution_count": 6,
   "metadata": {
    "collapsed": false
   },
   "outputs": [
    {
     "name": "stdout",
     "output_type": "stream",
     "text": [
      "0.936389235101\n",
      "0.74199896912\n"
     ]
    }
   ],
   "source": [
    "from sklearn.ensemble import GradientBoostingClassifier\n",
    "clf = GradientBoostingClassifier(n_estimators=1000, learning_rate=1)\n",
    "clf = clf.fit(X_train, y_train)\n",
    "print(clf.score(X_train,y_train))\n",
    "print(clf.score(X_test,y_test))\n",
    "\n",
    "\n",
    "\n",
    "\n"
   ]
  },
  {
   "cell_type": "code",
   "execution_count": 27,
   "metadata": {
    "collapsed": false
   },
   "outputs": [
    {
     "name": "stdout",
     "output_type": "stream",
     "text": [
      "0.788233393343\n",
      "0.780797525889\n"
     ]
    }
   ],
   "source": [
    "from sklearn.ensemble import AdaBoostClassifier\n",
    "clf_ada3 = AdaBoostClassifier(n_estimators=1000, learning_rate=1)\n",
    "clf_ada3 = clf_ada3.fit(X_train, y_train)\n",
    "print(clf_ada3.score(X_train,y_train))\n",
    "print(clf_ada3.score(X_test,y_test))\n",
    "\n",
    "\n"
   ]
  },
  {
   "cell_type": "code",
   "execution_count": 26,
   "metadata": {
    "collapsed": false
   },
   "outputs": [
    {
     "name": "stdout",
     "output_type": "stream",
     "text": [
      "0.792157134284\n",
      "0.777939178108\n"
     ]
    }
   ],
   "source": [
    "from sklearn.ensemble import VotingClassifier\n",
    "\n",
    "\n",
    "\n",
    "eclf = VotingClassifier(estimators=[('lr', clf), ('rf', clf_ada), ('gnb', clf_ada2)], voting='soft', weights=[3,1,3])\n",
    "eclf.fit(X_train,y_train)\n",
    "print(eclf.score(X_train,y_train))\n",
    "print(eclf.score(X_test,y_test))"
   ]
  },
  {
   "cell_type": "code",
   "execution_count": 24,
   "metadata": {
    "collapsed": false
   },
   "outputs": [
    {
     "name": "stdout",
     "output_type": "stream",
     "text": [
      "[ 1.  1.  1. ...,  1.  1.  1.]\n",
      "[ 1.  1.  1. ...,  1.  1.  1.]\n",
      "[ 1.  2.  1. ...,  1.  1.  1.]\n",
      "[[ 1.  1.  1.]\n",
      " [ 1.  1.  2.]\n",
      " [ 1.  1.  1.]\n",
      " ..., \n",
      " [ 1.  1.  1.]\n",
      " [ 1.  1.  1.]\n",
      " [ 1.  1.  1.]]\n"
     ]
    }
   ],
   "source": [
    "\n",
    "print(clf.predict(X_test))\n",
    "print(clf_ada.predict(X_test))\n",
    "print(y_test)\n",
    "\n",
    "result = np.empty((len(y_test),3))\n",
    "result[:,0] = clf.predict(X_test)\n",
    "result[:,1] = clf_ada.predict(X_test)\n",
    "result[:,2] = y_test\n",
    "print(result)\n",
    "\n",
    "with open('compare.csv', 'w') as f:\n",
    "    writer = csv.writer(f)\n",
    "    writer.writerows(result)\n"
   ]
  },
  {
   "cell_type": "code",
   "execution_count": 10,
   "metadata": {
    "collapsed": false
   },
   "outputs": [
    {
     "name": "stdout",
     "output_type": "stream",
     "text": [
      "0.199177350847\n",
      "0.188514767044\n"
     ]
    }
   ],
   "source": [
    "from sklearn.ensemble import GradientBoostingRegressor\n",
    "clf = GradientBoostingRegressor(n_estimators=50, learning_rate=0.1)\n",
    "clf = clf.fit(X_train, y_train)\n",
    "print(clf.score(X_train,y_train))\n",
    "print(clf.score(X_test,y_test))\n",
    "\n",
    "\n",
    "\n"
   ]
  },
  {
   "cell_type": "code",
   "execution_count": 20,
   "metadata": {
    "collapsed": false
   },
   "outputs": [
    {
     "name": "stdout",
     "output_type": "stream",
     "text": [
      "['0' '1' '2' ..., '15997' '15998' '15999']\n",
      "['1' '1' '1' ..., '1' '1' '1']\n"
     ]
    }
   ],
   "source": [
    "with open ('test_2008.csv' ,'r') as dest_f:\n",
    "    data_iter = csv.reader(dest_f, delimiter = ',', quotechar = '\"') \n",
    "    data = [data for data in data_iter] \n",
    "    data_test = np.asarray(data)\n",
    "\n",
    "X_test2 = np.array(data_test[1:,1:382],'f')\n",
    "y_test2 = clf.predict(X_test2)\n",
    "identity = data_test[1:,0] # data_test is data set. this is the first column\n",
    "print(identity)\n",
    "y_test3 = np.array([\"%.i\" % w for w in y_test2.reshape(y_test2.size)]) # y_test2 is a prediction \n",
    "print(y_test3)\n",
    "np.concatenate((a, b), axis=0)\n"
   ]
  },
  {
   "cell_type": "code",
   "execution_count": 42,
   "metadata": {
    "collapsed": false
   },
   "outputs": [
    {
     "name": "stdout",
     "output_type": "stream",
     "text": [
      "[['0' '1']\n",
      " ['1' '1']\n",
      " ['2' '1']\n",
      " ..., \n",
      " ['15997' '1']\n",
      " ['15998' '1']\n",
      " ['15999' '1']]\n",
      "[['id' 'PES1']\n",
      " ['0' '1']\n",
      " ['1' '1']\n",
      " ..., \n",
      " ['15997' '1']\n",
      " ['15998' '1']\n",
      " ['15999' '1']]\n"
     ]
    }
   ],
   "source": [
    "ListC = np.vstack((identity, y_test3))\n",
    "print(ListC.T)\n",
    "topic = ['id', 'PES1']\n",
    "results = np.vstack((topic, ListC.T))\n",
    "print(results)"
   ]
  },
  {
   "cell_type": "code",
   "execution_count": 4,
   "metadata": {
    "collapsed": false
   },
   "outputs": [
    {
     "ename": "NameError",
     "evalue": "name 'csv' is not defined",
     "output_type": "error",
     "traceback": [
      "\u001b[0;31m---------------------------------------------------------------------------\u001b[0m",
      "\u001b[0;31mNameError\u001b[0m                                 Traceback (most recent call last)",
      "\u001b[0;32m<ipython-input-4-d19ff0b037b6>\u001b[0m in \u001b[0;36m<module>\u001b[0;34m()\u001b[0m\n\u001b[1;32m      1\u001b[0m \u001b[0;32mwith\u001b[0m \u001b[0mopen\u001b[0m\u001b[0;34m(\u001b[0m\u001b[0;34m'output.csv'\u001b[0m\u001b[0;34m,\u001b[0m \u001b[0;34m'w'\u001b[0m\u001b[0;34m)\u001b[0m \u001b[0;32mas\u001b[0m \u001b[0mf\u001b[0m\u001b[0;34m:\u001b[0m\u001b[0;34m\u001b[0m\u001b[0m\n\u001b[0;32m----> 2\u001b[0;31m     \u001b[0mwriter\u001b[0m \u001b[0;34m=\u001b[0m \u001b[0mcsv\u001b[0m\u001b[0;34m.\u001b[0m\u001b[0mwriter\u001b[0m\u001b[0;34m(\u001b[0m\u001b[0mf\u001b[0m\u001b[0;34m)\u001b[0m\u001b[0;34m\u001b[0m\u001b[0m\n\u001b[0m\u001b[1;32m      3\u001b[0m     \u001b[0mwriter\u001b[0m\u001b[0;34m.\u001b[0m\u001b[0mwriterows\u001b[0m\u001b[0;34m(\u001b[0m\u001b[0mresults\u001b[0m\u001b[0;34m)\u001b[0m\u001b[0;34m\u001b[0m\u001b[0m\n",
      "\u001b[0;31mNameError\u001b[0m: name 'csv' is not defined"
     ]
    }
   ],
   "source": [
    "with open('output.csv', 'w') as f:\n",
    "    writer = csv.writer(f)\n",
    "    writer.writerows(results)"
   ]
  },
  {
   "cell_type": "code",
   "execution_count": 93,
   "metadata": {
    "collapsed": false
   },
   "outputs": [],
   "source": [
    "from sklearn.ensemble import AdaBoostClassifier\n",
    "clf = AdaBoostClassifier(n_estimators=100, learning_rate=1)\n",
    "clf = clf.fit(X_train, y_train)\n",
    "y_train_pre = clf.predict(X_train)\n",
    "y_test_pre = clf.predict(X_test)"
   ]
  },
  {
   "cell_type": "code",
   "execution_count": 100,
   "metadata": {
    "collapsed": false
   },
   "outputs": [
    {
     "name": "stdout",
     "output_type": "stream",
     "text": [
      "[[  1.10000000e+01   2.00800000e+03   3.00000000e+00 ...,   0.00000000e+00\n",
      "    0.00000000e+00   0.00000000e+00]\n",
      " [  1.10000000e+01   2.00800000e+03   1.00000000e+00 ...,   0.00000000e+00\n",
      "    0.00000000e+00   0.00000000e+00]\n",
      " [  1.10000000e+01   2.00800000e+03   1.00000000e+00 ...,   0.00000000e+00\n",
      "    0.00000000e+00   0.00000000e+00]\n",
      " ..., \n",
      " [  1.10000000e+01   2.00800000e+03   2.00000000e+00 ...,   0.00000000e+00\n",
      "    0.00000000e+00   0.00000000e+00]\n",
      " [  1.10000000e+01   2.00800000e+03   1.00000000e+00 ...,   0.00000000e+00\n",
      "    0.00000000e+00   0.00000000e+00]\n",
      " [  1.10000000e+01   2.00800000e+03   3.00000000e+00 ...,   0.00000000e+00\n",
      "    0.00000000e+00   0.00000000e+00]]\n",
      "[ 2.  1.  2. ...,  1.  1.  1.]\n",
      "(21341, 381)\n"
     ]
    }
   ],
   "source": [
    "print(X_train)\n",
    "print(y_train_pre)\n",
    "X_train_new = np.empty((43326,382))\n",
    "X_train_new[:,0:381] = X_train\n",
    "X_train_new[:,381] = y_train_pre*10\n",
    "print(X_test.shape)\n",
    "\n"
   ]
  },
  {
   "cell_type": "code",
   "execution_count": 101,
   "metadata": {
    "collapsed": false
   },
   "outputs": [],
   "source": [
    "X_test_new = np.empty((21341,382))\n",
    "X_test_new[:,0:381] = X_test\n",
    "X_test_new[:,381] = y_test_pre*10\n",
    "\n",
    "\n",
    "\n"
   ]
  },
  {
   "cell_type": "code",
   "execution_count": 3,
   "metadata": {
    "collapsed": false
   },
   "outputs": [
    {
     "ename": "NameError",
     "evalue": "name 'AdaBoostClassifier' is not defined",
     "output_type": "error",
     "traceback": [
      "\u001b[0;31m---------------------------------------------------------------------------\u001b[0m",
      "\u001b[0;31mNameError\u001b[0m                                 Traceback (most recent call last)",
      "\u001b[0;32m<ipython-input-3-82b3e7cce84c>\u001b[0m in \u001b[0;36m<module>\u001b[0;34m()\u001b[0m\n\u001b[0;32m----> 1\u001b[0;31m \u001b[0mclf\u001b[0m \u001b[0;34m=\u001b[0m \u001b[0mAdaBoostClassifier\u001b[0m\u001b[0;34m(\u001b[0m\u001b[0mn_estimators\u001b[0m\u001b[0;34m=\u001b[0m\u001b[0;36m100\u001b[0m\u001b[0;34m,\u001b[0m \u001b[0mlearning_rate\u001b[0m\u001b[0;34m=\u001b[0m\u001b[0;36m1\u001b[0m\u001b[0;34m)\u001b[0m\u001b[0;34m\u001b[0m\u001b[0m\n\u001b[0m\u001b[1;32m      2\u001b[0m \u001b[0mclf\u001b[0m \u001b[0;34m=\u001b[0m \u001b[0mclf\u001b[0m\u001b[0;34m.\u001b[0m\u001b[0mfit\u001b[0m\u001b[0;34m(\u001b[0m\u001b[0mX\u001b[0m\u001b[0;34m,\u001b[0m \u001b[0my\u001b[0m\u001b[0;34m)\u001b[0m\u001b[0;34m\u001b[0m\u001b[0m\n\u001b[1;32m      3\u001b[0m \u001b[0mprint\u001b[0m\u001b[0;34m(\u001b[0m\u001b[0mclf\u001b[0m\u001b[0;34m.\u001b[0m\u001b[0mscore\u001b[0m\u001b[0;34m(\u001b[0m\u001b[0mX\u001b[0m\u001b[0;34m,\u001b[0m\u001b[0my\u001b[0m\u001b[0;34m)\u001b[0m\u001b[0;34m)\u001b[0m\u001b[0;34m\u001b[0m\u001b[0m\n",
      "\u001b[0;31mNameError\u001b[0m: name 'AdaBoostClassifier' is not defined"
     ]
    }
   ],
   "source": []
  },
  {
   "cell_type": "code",
   "execution_count": 115,
   "metadata": {
    "collapsed": false
   },
   "outputs": [],
   "source": [
    "from sklearn.ensemble import RandomForestClassifier\n",
    "clf = RandomForestClassifier(n_estimators=100, criterion = 'gini', min_samples_split = 15, class_weight={1:0.2, 2:0.8})"
   ]
  },
  {
   "cell_type": "code",
   "execution_count": 116,
   "metadata": {
    "collapsed": false
   },
   "outputs": [
    {
     "name": "stdout",
     "output_type": "stream",
     "text": [
      "0.952868947053\n",
      "0.755775268263\n"
     ]
    }
   ],
   "source": [
    "clf = clf.fit(X_train, y_train)\n",
    "print(clf.score(X_train,y_train))\n",
    "print(clf.score(X_test,y_test))"
   ]
  },
  {
   "cell_type": "code",
   "execution_count": null,
   "metadata": {
    "collapsed": true
   },
   "outputs": [],
   "source": []
  }
 ],
 "metadata": {
  "anaconda-cloud": {},
  "kernelspec": {
   "display_name": "Python [default]",
   "language": "python",
   "name": "python3"
  },
  "language_info": {
   "codemirror_mode": {
    "name": "ipython",
    "version": 3
   },
   "file_extension": ".py",
   "mimetype": "text/x-python",
   "name": "python",
   "nbconvert_exporter": "python",
   "pygments_lexer": "ipython3",
   "version": "3.5.2"
  }
 },
 "nbformat": 4,
 "nbformat_minor": 1
}
